{
 "cells": [
  {
   "cell_type": "markdown",
   "id": "051f2b75-418e-43cf-8e1f-61c266a29c40",
   "metadata": {},
   "source": [
    "## Installing dependencies\n",
    "\n",
    " - Have python3 running on your machine\n",
    " - Create a virtual environment `python3 -m venv venv` in your current working directory\n",
    " - Enter the virtual environment `source .venv/bin/activate`, run `pip install -r requirements.txt` to install all dependencies\n",
    "\n",
    "----\n",
    "\n"
   ]
  },
  {
   "cell_type": "code",
   "execution_count": 2,
   "id": "b22df6aa-4df5-4ecb-b6e3-df751266fe4d",
   "metadata": {},
   "outputs": [],
   "source": [
    "import pandas as pd\n",
    "import numpy as np\n",
    "import matplot as mp"
   ]
  },
  {
   "cell_type": "markdown",
   "id": "19aae2f3-1914-44d5-a98e-8ff21e5caafd",
   "metadata": {},
   "source": [
    "## Question 1: Temperature Modeling\n",
    "\n",
    "Consider a scenario where the temperature X(t) varies randomly over a continuous time interval t, where t is in the range from 0 to 1. We begin with the assumption that X(0) = 0, which means that the temperature at time 0 is 0. Now, if we choose a small time increment represented by ∆t, we can make the assumption that the change in temperature from time t to t + ∆t, denoted as X(t+ ∆t)− X(t), follows a normal distribution. This normal distribution is characterized by a mean of 0 and a variance of ∆t.\n",
    "\n",
    "1. Let $P$ be the random variable denoting the proportion of time in [0, 1] such that the temperature is positive. Estimate the distribution of $P$ by Monte Carlo simulation and experimenting with various values of ∆t (e.g. ∆t = 0.01, 0.001, 0.0001, · · · .)\n",
    "\n",
    "2. Let $T_{max}$ be the random variable denoting the time in [0, 1] such that the temperature is at its maximum. Estimate the distribution of $T_{max}$ by Monte Carlo simulation and experimenting with various values of ∆t (e.g. ∆t = 0.01, 0.001, 0.0001, · · · .)"
   ]
  },
  {
   "cell_type": "markdown",
   "id": "97b56f13-5e3e-4446-90c6-193a5ab167db",
   "metadata": {},
   "source": [
    "# Question 2: Premier League Forecasting\n",
    "\n",
    "Create a probabilistic model and perform Monte Carlo simulations to forecast the final points for Premier League teams in the 2024-2025 season. \n",
    "\n",
    "This model will include some unknown parameters that you will determine based on the data you gather. \n",
    "\n",
    "In Premier League matches, teams earn three points for a win, one point for a draw, and no points for a loss. For your predictions, you could use statistics from the beginning of the season up to a specific date to estimate the parameters of your model, and then run Monte Carlo simulations to project the outcomes of the remaining matches, ultimately predicting the final points for each team at the season's end. \n",
    "\n",
    "----\n",
    "\n",
    "Here's a brief outline of a relatively straightforward way to model this scenario. \n",
    "\n",
    "For each match, you can treat the number of shots attempted by the home and away teams as random variables, such as Poisson random variables. The rate parameters of the Poisson distribution will be influenced by the strengths of both teams. Each shot taken will have an associated probability of scoring, which also varies depending on the teams involved. \n",
    "\n",
    "You are encouraged to create your own models, but it's essential to explain and justify your choices. Discuss how you determine the parameters and outline the advantages and limitations of the models you select."
   ]
  }
 ],
 "metadata": {
  "kernelspec": {
   "display_name": "Python 3 (ipykernel)",
   "language": "python",
   "name": "python3"
  },
  "language_info": {
   "codemirror_mode": {
    "name": "ipython",
    "version": 3
   },
   "file_extension": ".py",
   "mimetype": "text/x-python",
   "name": "python",
   "nbconvert_exporter": "python",
   "pygments_lexer": "ipython3",
   "version": "3.13.0"
  }
 },
 "nbformat": 4,
 "nbformat_minor": 5
}
