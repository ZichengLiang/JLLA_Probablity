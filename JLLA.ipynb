{
 "cells": [
  {
   "cell_type": "markdown",
   "id": "76556ae1",
   "metadata": {
    "editable": true,
    "slideshow": {
     "slide_type": ""
    },
    "tags": []
   },
   "source": [
    "# STU22004 Applied Probablity Group Project\n",
    "----\n",
    "| Team members| Student ID|\n",
    "|-------------|---------|\n",
    "|Leon Andorfi|23335878|\n",
    "|Joel Matthew Jojan|23376190|\n",
    "|Aryan Kapoor|22300775|\n",
    "|Zicheng Liang|23331250|"
   ]
  },
  {
   "cell_type": "code",
   "execution_count": null,
   "id": "b22df6aa-4df5-4ecb-b6e3-df751266fe4d",
   "metadata": {
    "editable": true,
    "slideshow": {
     "slide_type": ""
    },
    "tags": [
     "hide-cell"
    ]
   },
   "outputs": [],
   "source": [
    "import pandas as pd\n",
    "import numpy as np\n",
    "import matplot as mp\n",
    "import seaborn as sns\n",
    "import random\n",
    "import json\n",
    "from collections import defaultdict\n",
    "from collections import Counter\n",
    "# 60 sec * 90 min = 5400 secs \n",
    "# 5400 / 30 (30s per tick)\n",
    "simulation_tick = 180 \n",
    "teams = []\n",
    "\n",
    "import matplotlib.pyplot as plt"
   ]
  },
  {
   "cell_type": "markdown",
   "id": "19aae2f3-1914-44d5-a98e-8ff21e5caafd",
   "metadata": {},
   "source": [
    "## Question 1: Temperature Modeling\n",
    "\n",
    "Consider a scenario where the temperature X(t) varies randomly over a continuous time interval t, where t is in the range from 0 to 1. We begin with the assumption that X(0) = 0, which means that the temperature at time 0 is 0. Now, if we choose a small time increment represented by $\\Delta t$, we can make the assumption that the change in temperature from time t to t + $\\Delta t$, denoted as X(t+ $\\Delta t$)− X(t), follows a normal distribution. This normal distribution is characterized by a mean of 0 and a variance of $\\Delta t$.\n",
    "\n",
    "1. Let $P$ be the random variable denoting the proportion of time in [0, 1] such that the temperature is positive. Estimate the distribution of $P$ by Monte Carlo simulation and experimenting with various values of $\\Delta t$ (e.g. $\\Delta t$ = 0.01, 0.001, 0.0001, · · · .)\n",
    "2. Let $T_{max}$ be the random variable denoting the time in [0, 1] such that the temperature is at its maximum. Estimate the distribution of $T_{max}$ by Monte Carlo simulation and experimenting with various values of $\\Delta t$ (e.g. $\\Delta t$ = 0.01, 0.001, 0.0001, · · · .)"
   ]
  },
  {
   "cell_type": "markdown",
   "id": "5ac1af4e",
   "metadata": {},
   "source": [
    "We will first plot the distribution estimate for $P$ when $∆t = 0.01$. We will pick the number of simulations to be 1000. Since the temperature change from some time $t$ to $t + ∆t$ is normally distributed, within each simulation we will sample $1/∆t$ values from a normal distribution with 0 mean and $\\sqrt∆t$ standard deviation. Then, starting from time 0 and temperature 0, we will add the temperature changes one by one, and for each change record whether the current temperature is positive or not."
   ]
  },
  {
   "cell_type": "code",
   "execution_count": null,
   "id": "7a23df33",
   "metadata": {
    "editable": true,
    "slideshow": {
     "slide_type": ""
    },
    "tags": []
   },
   "outputs": [],
   "source": [
    "# Parameters we can choose\n",
    "\n",
    "deltaT = 0.01\n",
    "num_simulations = 1000"
   ]
  },
  {
   "cell_type": "markdown",
   "id": "50a3f93e",
   "metadata": {
    "editable": true,
    "slideshow": {
     "slide_type": ""
    },
    "tags": []
   },
   "source": [
    "Formally, for $n=\\frac{1}{\\Delta t}$ samples $\\left\\{ s_1, s_2, \\dots, s_n \\right\\}$, we define the proportion of positive temperatures $p$ as\n",
    "$p=\\frac{1}{n}\\sum_{k=1}^{n}\\textbf{1}_\\mathbb{R^+}\\left( \\sum_{i=1}^{k} s_i \\right)$, where $\\textbf{1}_{\\mathbb{R^+}}$ is the indicator function of the set of positive reals, defined as\n",
    "$$\n",
    "\\textbf{1}_{\\mathbb{R^+}}(x) =\n",
    "\\begin{cases}\n",
    "1 & \\text{if } x \\in R^+, \\\\\n",
    "0 & \\text{if } x \\notin R^+.\n",
    "\\end{cases}\n",
    "$$"
   ]
  },
  {
   "cell_type": "code",
   "execution_count": null,
   "id": "b3105536",
   "metadata": {
    "editable": true,
    "slideshow": {
     "slide_type": ""
    },
    "tags": []
   },
   "outputs": [],
   "source": [
    "def get_positive_proportion(arr):\n",
    "    num = cur = 0\n",
    "    for t in arr:\n",
    "        cur += t\n",
    "        num += int(cur > 0)\n",
    "    return num / arr.shape[0]\n",
    "\n",
    "def get_P(deltaT, num_simulations=1000):\n",
    "    num_temp_changes = int(1 / deltaT)\n",
    "    temp_changes = np.random.normal(0, np.sqrt(deltaT), (num_simulations, num_temp_changes))\n",
    "    return np.array(list(map(get_positive_proportion, temp_changes)))"
   ]
  },
  {
   "cell_type": "markdown",
   "id": "01578d0a",
   "metadata": {},
   "source": [
    "Finally, we plot the computed values of $\\left\\{ p_1, p_2, \\dots, p_m \\right\\}$ where $m$ is the number of simulations performed ($m=1000$ in our case)."
   ]
  },
  {
   "cell_type": "code",
   "execution_count": null,
   "id": "8e21da8b",
   "metadata": {
    "editable": true,
    "slideshow": {
     "slide_type": ""
    },
    "tags": []
   },
   "outputs": [],
   "source": [
    "proportions = get_P(deltaT, num_simulations)\n",
    "sns.histplot(proportions, kde=True)\n",
    "plt.title(f'Distribution of P for $\\\\Delta t$ = {deltaT}')\n",
    "plt.xlabel('Proportion of Time X(t) > 0 (P)')\n",
    "plt.ylabel('Frequency')"
   ]
  },
  {
   "cell_type": "markdown",
   "id": "970b3358",
   "metadata": {},
   "source": [
    "Next step is to plot the distribution estimates for $\\Delta t = 0.01, 0.001, 0.0001, 0.00001$."
   ]
  },
  {
   "cell_type": "code",
   "execution_count": null,
   "id": "f9e55dc2",
   "metadata": {
    "editable": true,
    "slideshow": {
     "slide_type": ""
    },
    "tags": []
   },
   "outputs": [],
   "source": [
    "deltaTs = [0.01, 0.001, 0.0001, 0.00001]\n",
    "P_values = [get_P(delta_t) for delta_t in deltaTs]"
   ]
  },
  {
   "cell_type": "code",
   "execution_count": null,
   "id": "67f0d6e0",
   "metadata": {
    "editable": true,
    "slideshow": {
     "slide_type": ""
    },
    "tags": []
   },
   "outputs": [],
   "source": [
    "fig, axes = plt.subplots(2, 2, figsize=(12, 10))\n",
    "axes = axes.flatten()\n",
    "\n",
    "for idx, P_value in enumerate(P_values):\n",
    "    sns.histplot(P_value, kde=True, bins=50, ax=axes[idx])\n",
    "    axes[idx].set_title(f'Distribution of P for $\\\\Delta t$ = {deltaTs[idx]}')\n",
    "    axes[idx].set_xlabel('Proportion of Time X(t) > 0 (P)')\n",
    "    axes[idx].set_ylabel('Frequency')\n",
    "\n",
    "plt.tight_layout()\n",
    "plt.show()"
   ]
  },
  {
   "cell_type": "markdown",
   "id": "e4d40db2",
   "metadata": {},
   "source": [
    "The following table contains mean and variance estimates for value of $\\Delta t$."
   ]
  },
  {
   "cell_type": "code",
   "execution_count": null,
   "id": "52ff95df",
   "metadata": {
    "editable": true,
    "slideshow": {
     "slide_type": ""
    },
    "tags": []
   },
   "outputs": [],
   "source": [
    "means = [p.mean() for p in P_values]\n",
    "vars = [p.var() for p in P_values]\n",
    "dist_df = pd.DataFrame(list(zip(deltaTs, means, vars)), columns=['Δt', 'Mean', 'Variance'])\n",
    "dist_df"
   ]
  },
  {
   "cell_type": "markdown",
   "id": "95fadb1f",
   "metadata": {},
   "source": [
    "Now we turn to estimating the distribution of $T_{max}$. Similarly to $P$, The time at which the temperature is at its maximum can be defined as $t_{max}=\\frac{1}{n}\\underset{k \\in S}{\\arg\\max} \\left( \\sum_{i=1}^{k} s_i \\right)$ where $n=\\frac{1}{\\Delta t}$, $\\left\\{ s_1, s_2, \\dots, s_n \\right\\}$ are the temperature change samples and $S=\\left\\{ x \\in \\mathbb{N} \\mid x \\le n \\right\\}$."
   ]
  },
  {
   "cell_type": "code",
   "execution_count": null,
   "id": "8f4ef6e1",
   "metadata": {
    "editable": true,
    "slideshow": {
     "slide_type": ""
    },
    "tags": []
   },
   "outputs": [],
   "source": [
    "def get_max(arr):\n",
    "    max_val = max_ind = cur = 0\n",
    "    for i in range(arr.shape[0]):\n",
    "        cur += arr[i]\n",
    "        max_val = max(max_val, cur)\n",
    "        max_ind = i if max_val == cur else max_ind\n",
    "\n",
    "    return max_ind / arr.shape[0]\n",
    "\n",
    "def get_Tmax(deltaT, num_simulations=1000):\n",
    "    num_temp_changes = int(1 / deltaT)\n",
    "    temp_changes = np.random.normal(0, np.sqrt(deltaT), (num_simulations, num_temp_changes))\n",
    "    return np.array(list(map(get_max, temp_changes)))"
   ]
  },
  {
   "cell_type": "code",
   "execution_count": null,
   "id": "c546c23d",
   "metadata": {
    "editable": true,
    "slideshow": {
     "slide_type": ""
    },
    "tags": []
   },
   "outputs": [],
   "source": [
    "Tmax_values = [get_Tmax(delta_t) for delta_t in deltaTs]"
   ]
  },
  {
   "cell_type": "markdown",
   "id": "284ef9f7",
   "metadata": {},
   "source": [
    "The following are the distribution estimates for $T_{max}$ when $\\Delta t = 0.01, 0.001, 0.0001, 0.00001$."
   ]
  },
  {
   "cell_type": "code",
   "execution_count": null,
   "id": "a3ca0c32",
   "metadata": {
    "editable": true,
    "slideshow": {
     "slide_type": ""
    },
    "tags": [
     "hide-cell"
    ]
   },
   "outputs": [],
   "source": [
    "fig, axes = plt.subplots(2, 2, figsize=(12, 10))\n",
    "axes = axes.flatten()\n",
    "\n",
    "for idx, Tmax_value in enumerate(Tmax_values):\n",
    "    sns.histplot(Tmax_value, kde=True, bins=50, ax=axes[idx])\n",
    "    axes[idx].set_title(f'Distribution of $T_{{max}}$ for $\\\\Delta t$ = {deltaTs[idx]}')\n",
    "    axes[idx].set_xlabel('Time of Maximum Temperature ($T_{max}$)')\n",
    "    axes[idx].set_ylabel('Frequency')\n",
    "\n",
    "plt.tight_layout()\n",
    "plt.show()"
   ]
  },
  {
   "cell_type": "markdown",
   "id": "2b39fb56",
   "metadata": {},
   "source": [
    "The following table contains mean and variance estimates for value of $\\Delta t$."
   ]
  },
  {
   "cell_type": "code",
   "execution_count": null,
   "id": "fa65ffa3",
   "metadata": {
    "editable": true,
    "slideshow": {
     "slide_type": ""
    },
    "tags": [
     "hide-cell"
    ]
   },
   "outputs": [],
   "source": [
    "means = [t.mean() for t in Tmax_values]\n",
    "vars = [t.var() for t in Tmax_values]\n",
    "dist_df = pd.DataFrame(list(zip(deltaTs, means, vars)), columns=['Δt', 'Mean', 'Variance'])\n",
    "dist_df"
   ]
  },
  {
   "cell_type": "markdown",
   "id": "6f281f1f",
   "metadata": {},
   "source": [
    "### Analysis of Results"
   ]
  },
  {
   "cell_type": "markdown",
   "id": "823068b4",
   "metadata": {},
   "source": [
    "Distribution estimates of $P$ and $T_{max}$ seem to suggest that both random variables have identical distributions, with $\\mu \\approx 0.5$ and $\\sigma^2 \\approx 0.125$. A notable characteristic of both distributions are the heavy tails at 0 and 1. Simulating how the temperature changes over time for a few samples, we notice that some paths keep hovering over 0, shifting from positive to negative and negative and positive values. However, a good portion of paths start with a wave of positive/negative changes, and thus never go down/up to 0. These samples will have either $t_{max}=p=0$ (negative values at start) or $t_{max}=p=1.0$ (positive values at start)."
   ]
  },
  {
   "cell_type": "code",
   "execution_count": null,
   "id": "ae096395",
   "metadata": {
    "editable": true,
    "slideshow": {
     "slide_type": ""
    },
    "tags": []
   },
   "outputs": [],
   "source": [
    "def simulate_change(delta_t):\n",
    "    N_steps = int(1 / delta_t)\n",
    "    dX = np.random.normal(0, np.sqrt(delta_t), size=N_steps)\n",
    "    X = np.concatenate(([0], np.cumsum(dX)))\n",
    "    time_grid = np.linspace(0, 1, N_steps + 1)\n",
    "    return time_grid, X\n",
    "\n",
    "delta_t = 0.001\n",
    "num_paths = 5\n",
    "plt.figure(figsize=(10, 6))\n",
    "\n",
    "for _ in range(num_paths):\n",
    "    t, X = simulate_change(delta_t)\n",
    "    plt.plot(t, X)\n",
    "\n",
    "plt.title('Temperature Changes Through Time')\n",
    "plt.xlabel('Time')\n",
    "plt.ylabel('Temperature X(t)')\n",
    "plt.show()\n"
   ]
  },
  {
   "cell_type": "markdown",
   "id": "5a8b90b1",
   "metadata": {
    "editable": true,
    "slideshow": {
     "slide_type": ""
    },
    "tags": []
   },
   "source": [
    "-----\n",
    "## Premier League Forecasting – Model Description\n",
    "Our predictive model for Premier League matches uses a simulation-based approach, underpinned by player statistics extracted using the datascraper.py script. This script gathers comprehensive data from FBref and outputs a players.json file, which serves as the foundation for determining individual player attributes and team dynamics.\n",
    "\n",
    "### Simulation Framework\n",
    "The simulation operates on a time-based system. Matches are simulated incrementally in discrete time \"ticks.\" Each tick represents a specific period within the game where players make decisions and interact with the ball. The process begins with a random home-team player (excluding the goalkeeper) taking the kick-off and passing to a teammate.\n",
    "\n",
    "#### At each tick, the player in possession of the ball has the following possible outcomes (events) :\n",
    "\n",
    "Pass the Ball: The player attempts to pass the ball, influenced by their passing accuracy and team tactics.\n",
    "\n",
    "Shoot: The player attempts a shot, with a scoring probability calculated based on historical data, their position, and individual scoring ability.\n",
    "\n",
    "Lose Possession: The player loses the ball, either due to interception, tackle, or misplay, transitioning control to the opposing team.\n",
    "\n",
    "Retain Possession: If none of the above occurs, the player holds the ball until the next tick.\n",
    "Parameterization\n",
    "\n",
    "#### Meanwhile likelihood of each event is dynamically computed using these collected data:\n",
    "\n",
    "Passing Probabilities: Depend on player attributes (e.g., passing accuracy) and their role (e.g., midfielders are more likely to pass forward compared to defenders).\n",
    "\n",
    "Shooting Probabilities: Reflect player-specific data (e.g., historical goal conversion rates) and contextual factors such as distance to goal and defensive pressure.\n",
    "\n",
    "Losing Possession: Influenced by player stats (e.g., ball retention ability) and opposing team's defensive strength.\n",
    "\n",
    "### Monte Carlo Simulations\n",
    "For each match, we simulate thousands of iterations, each representing a potential outcome. Key outcomes (home win, away win, or draw) are determined based on goal differentials across these simulations. \n",
    "\n",
    "The simulation records are given as following: Goals scored by both teams, Match outcomes (win/loss/draw), Possession statistics\n",
    "\n",
    "### Season Simulation\n",
    "To forecast final league standings:\n",
    "\n",
    "__Match Simulation__: Each match in the season is simulated multiple times.\n",
    "\n",
    "__Aggregate Results__: The average number of wins, draws, and losses for each team is calculated.\n",
    "\n",
    "__Final Points__: Points are assigned (3 for a win, 1 for a draw, 0 for a loss) to determine the final standings.\n",
    "\n",
    "__Goal Statistics__: Average goals scored and conceded are used as secondary metrics for ranking.\n",
    "\n",
    "More details will be given in the corresponding section"
   ]
  },
  {
   "cell_type": "markdown",
   "id": "c2c278ae",
   "metadata": {
    "editable": true,
    "slideshow": {
     "slide_type": ""
    },
    "tags": []
   },
   "source": [
    "#### Team Lineup Creation Function:"
   ]
  },
  {
   "cell_type": "code",
   "execution_count": null,
   "id": "b4679700",
   "metadata": {
    "editable": true,
    "slideshow": {
     "slide_type": ""
    },
    "tags": []
   },
   "outputs": [],
   "source": [
    "#Creates an array of the team names!\n",
    "with open(\"./teamFormations.json\", 'r') as teamFile:\n",
    "        teamsJSON = json.load(teamFile)\n",
    "for team in teamsJSON:\n",
    "    teams.append(team['name'])"
   ]
  },
  {
   "cell_type": "code",
   "execution_count": null,
   "id": "447e9a42",
   "metadata": {
    "jupyter": {
     "source_hidden": true
    }
   },
   "outputs": [],
   "source": [
    "class player:\n",
    "    '''Player Class'''\n",
    "    \n",
    "    def __init__(self, name, url, pos, team, isGoalkeeper, mp, starts, gamesPlayedForCurrentTeam, startsForCurrentTeam, \n",
    "                 savePercentage, tacklesPG, interceptionsPG, shotsPG, passesPG, progPassesRecievedPG, progCarriesPG ):\n",
    "        self.name = name\n",
    "        self.url = url\n",
    "        self.position = pos\n",
    "        self.team = team\n",
    "        self.isGoalkeeper = isGoalkeeper\n",
    "\n",
    "        #Common stats:\n",
    "        self.matchesPlayed = mp\n",
    "        self.starts = starts\n",
    "        self.gamesPlayedForCurrentTeam = gamesPlayedForCurrentTeam\n",
    "        self.startsForCurrentTeam = startsForCurrentTeam\n",
    "\n",
    "        # GK STATS:\n",
    "        self.savePercentage = savePercentage\n",
    "\n",
    "        # Outfielder Stats:\n",
    "        self.tacklesPG = tacklesPG\n",
    "        self.interceptionsPG = interceptionsPG\n",
    "        self.shotsPG = shotsPG\n",
    "        self.passesPG = passesPG\n",
    "        self.progPassesRecievedPG = progPassesRecievedPG\n",
    "        self.progCarriesPG = progCarriesPG\n",
    "    \n",
    "    def __str__(self):\n",
    "        return f\"[Name: {self.name}\""
   ]
  },
  {
   "cell_type": "markdown",
   "id": "2386d96f",
   "metadata": {},
   "source": [
    "##### Lineup Generation\n",
    "The simulation iterates 𝑁 = iterations times. This code is designed to use a Monte Carlo method to generate the most likely lineup to be chosen by the team for a game. We use weights based off of the players games played for the current team and their starts for the current team. We then store this in a 4 part dictionary containing the selected defenders, midfielders, forwards and goalkeeper. The size of each subsection is determined based on the teams lineups which are stored in the lineups.json file.\n",
    "The original code was somewhat inefficient and caused our whole code to take a large amount of time. It was later improved in `optimized_lineup_selection` by Zicheng."
   ]
  },
  {
   "cell_type": "code",
   "execution_count": null,
   "id": "1531408f",
   "metadata": {
    "jupyter": {
     "source_hidden": true
    }
   },
   "outputs": [],
   "source": [
    "import os\n",
    "def optimized_lineup_selection(defenders, midfielders, forwards, goalkeepers, lineup, iterations):\n",
    "    \"\"\"\n",
    "    Optimized method for selecting starting lineup using Monte Carlo simulation.\n",
    "    \n",
    "    Key Optimizations:\n",
    "    - Precompute weights once\n",
    "    - Use more efficient data structures\n",
    "    - Minimize repeated computations\n",
    "    \"\"\"\n",
    "    # Precompute weight calculation to avoid repeated computations\n",
    "    def calculate_weights(players):\n",
    "        return [\n",
    "            max(0.001, player['gamesPlayedForCurrentTeam'] / player['startsForCurrentTeam']) \n",
    "            if player['startsForCurrentTeam'] > 0 else 0.001 \n",
    "            for player in players\n",
    "        ]\n",
    "    \n",
    "    # Precompute weights for each position\n",
    "    defender_weights = calculate_weights(defenders)\n",
    "    midfielder_weights = calculate_weights(midfielders)\n",
    "    forward_weights = calculate_weights(forwards)\n",
    "    goalkeeper_weights = calculate_weights(goalkeepers)\n",
    "    \n",
    "    # Initialize selection count tracking\n",
    "    defender_selection_counts = defaultdict(int)\n",
    "    midfielder_selection_counts = defaultdict(int)\n",
    "    forward_selection_counts = defaultdict(int)\n",
    "    goalkeeper_selection_counts = defaultdict(int)\n",
    "    \n",
    "    # Efficient Monte Carlo simulation\n",
    "    for _ in range(iterations):\n",
    "        # Use efficient tracking instead of multiple set operations\n",
    "        used_names = set()\n",
    "        \n",
    "        # Optimize player selection with precomputed weights\n",
    "        def select_players(players, weights, position_count, selection_counts):\n",
    "            # Filter out already used players\n",
    "            available_players = [\n",
    "                (player, weight) for player, weight in zip(players, weights) \n",
    "                if player['name'] not in used_names\n",
    "            ]\n",
    "            \n",
    "            # Unzip players and weights\n",
    "            available_player_list = [p[0] for p in available_players]\n",
    "            available_weight_list = [p[1] for p in available_players]\n",
    "            \n",
    "            # Select players\n",
    "            selected = random.choices(\n",
    "                available_player_list, \n",
    "                weights=available_weight_list, \n",
    "                k=min(len(available_player_list), position_count)\n",
    "            )\n",
    "            \n",
    "            # Update used names and selection counts\n",
    "            for player in selected:\n",
    "                used_names.add(player['name'])\n",
    "                selection_counts[player['name']] += 1\n",
    "            \n",
    "            return selected\n",
    "        \n",
    "        # Select players for each position\n",
    "        selected_defenders = select_players(\n",
    "            defenders, defender_weights, lineup[0], defender_selection_counts\n",
    "        )\n",
    "        \n",
    "        selected_midfielders = select_players(\n",
    "            midfielders, midfielder_weights, lineup[1], midfielder_selection_counts\n",
    "        )\n",
    "        \n",
    "        selected_forwards = select_players(\n",
    "            forwards, forward_weights, lineup[2], forward_selection_counts\n",
    "        )\n",
    "        \n",
    "        # Select goalkeeper (always one)\n",
    "        available_goalkeepers = [\n",
    "            (gk, weight) for gk, weight in zip(goalkeepers, goalkeeper_weights) \n",
    "            if gk['name'] not in used_names\n",
    "        ]\n",
    "        \n",
    "        if available_goalkeepers:\n",
    "            goalkeeper = random.choices(\n",
    "                [gk[0] for gk in available_goalkeepers], \n",
    "                weights=[gk[1] for gk in available_goalkeepers], \n",
    "                k=1\n",
    "            )[0]\n",
    "            \n",
    "            goalkeeper_selection_counts[goalkeeper['name']] += 1\n",
    "    \n",
    "    # Return selection counts for each position\n",
    "    return {\n",
    "        'defenders': defender_selection_counts,\n",
    "        'midfielders': midfielder_selection_counts,\n",
    "        'forwards': forward_selection_counts,\n",
    "        'goalkeepers': goalkeeper_selection_counts\n",
    "    }\n",
    "\n",
    "def predict_starting_lineup(team_name, iterations=100, base_dir=\"./team_files\"):\n",
    "    \"\"\"\n",
    "    Predict the starting lineup for a team using a Monte Carlo simulation.\n",
    "\n",
    "    Parameters:\n",
    "        team_name (str): The name of the team to predict the lineup for.\n",
    "        iterations (int): Number of Monte Carlo iterations.\n",
    "        base_dir (str): Directory containing team-specific JSON files.\n",
    "\n",
    "    Returns:\n",
    "        list: Predicted starting lineup as an array of player objects.\n",
    "    \"\"\"\n",
    "    # Create a safe filename version of the team name\n",
    "    safe_team_name = ''.join(char for char in team_name if char.isalnum() or char.isspace()).rstrip()\n",
    "    safe_team_name = safe_team_name.replace(' ', '_')\n",
    "    \n",
    "    # Construct the file path for the team's JSON file\n",
    "    file_path = os.path.join(base_dir, f\"{safe_team_name}.json\")\n",
    "    \n",
    "    # Check if the file exists\n",
    "    if not os.path.exists(file_path):\n",
    "        raise FileNotFoundError(f\"No JSON file found for team {team_name}. Searched at: {file_path}\")\n",
    "\n",
    "    # Read team formations (assuming this file is still in the original location)\n",
    "    with open(\"./teamFormations.json\", 'r') as formationFile:\n",
    "        formations = json.load(formationFile)\n",
    "\n",
    "    # Default formation\n",
    "    lineup = \"4,3,3\"\n",
    "    for formation in formations:\n",
    "        if formation[\"name\"] == team_name:\n",
    "            lineup = formation[\"formation\"]\n",
    "\n",
    "    # Load player data from team-specific file\n",
    "    with open(file_path, 'r') as file:\n",
    "        players = json.load(file)\n",
    "\n",
    "    lineup = list(map(int, lineup.split(\",\")))\n",
    "\n",
    "    # Separate players by position\n",
    "    team_players = [p for p in players]\n",
    "    defenders = [p for p in players if 'DF' in p['position'].split(', ')]\n",
    "    midfielders = [p for p in players if 'MF' in p['position'].split(', ')]\n",
    "    forwards = [p for p in players if 'FW' in p['position'].split(', ')]\n",
    "    goalkeepers = [p for p in players if 'GK' in p['position'].split(', ')]\n",
    "\n",
    "    if not goalkeepers:\n",
    "        raise ValueError(f\"No goalkeepers found for team {team_name}\")\n",
    "\n",
    "    # Use the optimized selection method\n",
    "    selection_results = optimized_lineup_selection(\n",
    "        defenders, midfielders, forwards, goalkeepers, lineup, iterations\n",
    "    )\n",
    "\n",
    "    # Determine the most likely starting lineup\n",
    "    predicted_defenders = sorted(\n",
    "        selection_results['defenders'].items(),\n",
    "        key=lambda x: x[1],\n",
    "        reverse=True\n",
    "    )[:lineup[0]]\n",
    "\n",
    "    predicted_midfielders = sorted(\n",
    "        selection_results['midfielders'].items(),\n",
    "        key=lambda x: x[1],\n",
    "        reverse=True\n",
    "    )[:lineup[1]]\n",
    "\n",
    "    predicted_forwards = sorted(\n",
    "        selection_results['forwards'].items(),\n",
    "        key=lambda x: x[1],\n",
    "        reverse=True\n",
    "    )[:lineup[2]]\n",
    "\n",
    "    predicted_goalkeeper = max(\n",
    "        selection_results['goalkeepers'].items(), \n",
    "        key=lambda x: x[1]\n",
    "    )\n",
    "\n",
    "    # Aggregate all player objects into a single list\n",
    "    starting_lineup = []\n",
    "    selected_players = set()\n",
    "\n",
    "    # Add goalkeeper\n",
    "    starting_lineup.append(next(player for player in goalkeepers if player['name'] == predicted_goalkeeper[0]))\n",
    "    selected_players.add(predicted_goalkeeper[0])\n",
    "\n",
    "    # Add defenders\n",
    "    for defender in predicted_defenders:\n",
    "        player = next(player for player in defenders if player['name'] == defender[0])\n",
    "        starting_lineup.append(player)\n",
    "        selected_players.add(player['name'])\n",
    "\n",
    "    # Add midfielders\n",
    "    for midfielder in predicted_midfielders:\n",
    "        player = next(player for player in midfielders if player['name'] == midfielder[0])\n",
    "        starting_lineup.append(player)\n",
    "        selected_players.add(player['name'])\n",
    "\n",
    "    # Add forwards\n",
    "    for forward in predicted_forwards:\n",
    "        player = next(player for player in forwards if player['name'] == forward[0])\n",
    "        starting_lineup.append(player)\n",
    "        selected_players.add(player['name'])\n",
    "\n",
    "    # Fill remaining gaps for each position\n",
    "    while len(starting_lineup) < 11:\n",
    "        remaining_pool = [p for p in team_players if p['name'] not in selected_players]\n",
    "        if not remaining_pool:\n",
    "            break\n",
    "        player = remaining_pool.pop(0)\n",
    "        if len(starting_lineup) < lineup[0] + 1:  # Defenders gap\n",
    "            starting_lineup.append(player)\n",
    "        elif len(starting_lineup) < lineup[0] + lineup[1] + 1:  # Midfielders gap\n",
    "            starting_lineup.append(player)\n",
    "        else:  # Forwards gap\n",
    "            starting_lineup.append(player)\n",
    "        selected_players.add(player['name'])\n",
    "        \n",
    "\n",
    "    return starting_lineup"
   ]
  },
  {
   "cell_type": "markdown",
   "id": "f2451ae1",
   "metadata": {},
   "source": [
    "#### Initialize Match\n",
    "The function `initialize_match` sets up the initial state of the match by generating team lineups, determining possession, and preparing the game state"
   ]
  },
  {
   "cell_type": "code",
   "execution_count": null,
   "id": "b3dcc658",
   "metadata": {
    "jupyter": {
     "source_hidden": true
    }
   },
   "outputs": [],
   "source": [
    "\n",
    "def initialize_match(home_team, away_team):\n",
    "    \"\"\"\n",
    "    Initializes the match by generating lineups and setting initial game state.\n",
    "\n",
    "    Parameters:\n",
    "        home_team (list): Home team players.\n",
    "        away_team (list): Away team players.\n",
    "\n",
    "    Returns:\n",
    "        dict: Game state including possession, teams, and stats.\n",
    "    \"\"\"\n",
    "\n",
    "    # Generate lineups \n",
    "    home_lineup = predict_starting_lineup(home_team)\n",
    "    away_lineup = predict_starting_lineup(away_team)\n",
    "    \n",
    "    # Filter midfielders (MF) from the home lineup\n",
    "    midfielders = [player for player in home_lineup if 'MF' in player['position'].split(', ')]\n",
    "\n",
    "    # Choose a random midfielder to start possession\n",
    "    if midfielders:\n",
    "        initial_possession_player = random.choice(midfielders)\n",
    "    else:\n",
    "        # Fallback if no midfielders are available\n",
    "        initial_possession_player = random.choice(home_lineup)\n",
    "\n",
    "\n",
    "    game_state = {\n",
    "        \"possession_team\": \"home\",  # Ball starts with the home team\n",
    "        \"possession_player\": initial_possession_player,  # Random home player\n",
    "        \"home_team\": home_lineup,\n",
    "        \"away_team\": away_lineup,\n",
    "        \"home_score\": 0,\n",
    "        \"away_score\": 0,\n",
    "        \"events\": []  # Log of game events\n",
    "    }\n",
    "    return game_state"
   ]
  },
  {
   "cell_type": "markdown",
   "id": "e2bcd7a7",
   "metadata": {},
   "source": [
    "#### Player Action"
   ]
  },
  {
   "cell_type": "markdown",
   "id": "d5a5c2ee",
   "metadata": {},
   "source": [
    "Our code breaks down the actions a player can perform within each tick down into 4 parts. By abstracting this as such it helps us simplify the simulation while also creating a somewhat realistic method of predicting games. \n",
    "At every tick, the possession player is able to either pass, shoot, keep or lose the ball.\n",
    "$$P(Pass) = \\frac{\\text{passesPG}}{\\text{simulationTick}}$$ \n",
    "$$P(Shot) = shotsPG$$\n",
    "$$P(Lose) = \\frac{\\text{defensivePressure}}{\\text{simulationTick}}$$\n",
    "$$P(Keep) = 1 - \\text{P(Pass) + P(Shot) + P(Lose)} $$\n",
    "We then use a distribution based on these probabilities to return the action performed by the player.\n"
   ]
  },
  {
   "cell_type": "code",
   "execution_count": null,
   "id": "80a251ce",
   "metadata": {
    "jupyter": {
     "source_hidden": true
    }
   },
   "outputs": [],
   "source": [
    "def player_action(player, possession_team, game_state, tick):\n",
    "    \"\"\"\n",
    "    Determines the player's action for the current tick.\n",
    "\n",
    "    Parameters:\n",
    "        player (dict): Player with possession.\n",
    "        possession_team (str): 'home' or 'away'.\n",
    "        game_state (dict): Current game state.\n",
    "        tick (int): Current tick of the simulation (e.g., 1 minute).\n",
    "\n",
    "    Returns:\n",
    "        str: Action performed ('pass', 'shoot', 'keep', 'lose').\n",
    "    \"\"\"\n",
    "\n",
    "    # Get the opposing team\n",
    "    opp_team = game_state[\"away_team\"] if possession_team == \"home\" else game_state[\"home_team\"]\n",
    "\n",
    "    defensive_pressure = sum(p.get(\"tacklesPG\", 0) + p.get(\"interceptionsPG\", 0) for p in opp_team)\n",
    "    lose_prob = defensive_pressure / simulation_tick if simulation_tick > 0 else 0.2  # Avoid division by zero\n",
    "\n",
    "    # Calculate probabilities for other actions\n",
    "    shots_pg = player.get(\"shotsPG\", 0.1)\n",
    "    passes_pg = player.get(\"passesPG\", 10) / simulation_tick\n",
    "    # print(f\"shots : {shots_pg}, passes : {passes_pg}\")\n",
    "    keep_prob = 1 - (shots_pg + passes_pg + lose_prob)\n",
    "\n",
    "    # print(f\"{keep_prob + shots_pg + passes_pg + lose_prob}\")\n",
    "    # Ensure probabilities are valid\n",
    "    if keep_prob < 0:\n",
    "        keep_prob = 0\n",
    "\n",
    "    # Weighted random choice for the action\n",
    "    \n",
    "    action = random.choices(\n",
    "        [\"pass\", \"shoot\", \"keep\", \"lose\"],\n",
    "        weights=[passes_pg, shots_pg, keep_prob, lose_prob],\n",
    "        k=1\n",
    "    )[0]\n",
    "    return action\n"
   ]
  },
  {
   "cell_type": "markdown",
   "id": "73e46385",
   "metadata": {},
   "source": [
    "##### Pass ball:\n",
    "To select a teammate for passing, the **current possession player excludes themselves and any goalkeepers.**\n",
    "The selection probability for each teammate is assigned using the players *progressivePassesRecieved* statistic as well as the *position relativity multiplier* which is assigned based on the where the players positioned. \n",
    "*In effect, defenders -> midfielders is likely, midfielders -> forwards also likely, forwards -> defenders is unlikely.*\n",
    "This weight is then normalized and we assign it to the player for our selection process."
   ]
  },
  {
   "cell_type": "code",
   "execution_count": null,
   "id": "3ff978ad",
   "metadata": {
    "editable": true,
    "slideshow": {
     "slide_type": ""
    },
    "tags": []
   },
   "outputs": [],
   "source": [
    "def pass_ball(player, possession_team, game_state):\n",
    "    \"\"\"\n",
    "    Handle Passing the ball to a teammate\n",
    "\n",
    "    Parameters:\n",
    "        player     (dict) : CurrentPlayer\n",
    "        team       (list) : team the player belongs to\n",
    "        game_state (dict) : Current game state\n",
    "\n",
    "    Returns:\n",
    "        (dict) : updated game state\n",
    "    \"\"\"\n",
    "\n",
    "    # Choose a random teammate to pass to (excluding the current player)\n",
    "    teammates = [p for p in possession_team if p[\"name\"] != player[\"name\"] and not p['isGoalkeeper']]\n",
    "    if not teammates:\n",
    "        return game_state  # No teammates available, keep possession\n",
    "    \n",
    "    weights = []\n",
    "\n",
    "    for teammate in teammates:\n",
    "        #Base weight is progressive passes recieved if available.\n",
    "        prog_pass_weight = teammate.get(\"progPassesRecievedPG\", 1) # Defaults to 1 if not available\n",
    "\n",
    "        #Positional Relative weight\n",
    "        positional_weight = 1.0\n",
    "        if \"DF\" in player[\"position\"] and \"MF\" in teammate[\"position\"]:\n",
    "            positional_weight = 1.5\n",
    "        elif \"MF\" in player[\"position\"] and \"FW\" in teammate[\"position\"]:\n",
    "            positional_weight = 1.5\n",
    "        elif \"DF\" in player[\"position\"] and \"FW\" in teammate[\"position\"]:\n",
    "            positional_weight = 1.0\n",
    "        elif \"FW\" in player[\"position\"] and \"MF\" in teammate[\"position\"]:\n",
    "            positional_weight = 1.2\n",
    "        \n",
    "        total_weight = prog_pass_weight * positional_weight\n",
    "        weights.append(total_weight)\n",
    "    \n",
    "    # Normalize weights to sum to 1\n",
    "    total_weight_sum = sum(weights)\n",
    "    normalized_weights = [w / total_weight_sum for w in weights]\n",
    "\n",
    "    # Choose a teammate based on weighted probabilities\n",
    "    new_player = random.choices(teammates, weights=normalized_weights, k=1)[0]\n",
    "\n",
    "    game_state[\"possession_player\"] = new_player\n",
    "    game_state[\"events\"].append(f\"{player['name']} passed to {new_player['name']}\")\n",
    "\n",
    "    return game_state"
   ]
  },
  {
   "cell_type": "markdown",
   "id": "9f8fecbb",
   "metadata": {},
   "source": [
    "##### Attempt Shoot"
   ]
  },
  {
   "cell_type": "markdown",
   "id": "bc0aa3ca",
   "metadata": {},
   "source": [
    "We have encountered a problem while implementing \"Attempt Shoot\" function: how should we simulate the chance of scoring? \n",
    "\n",
    "The ideal solution would be a linear regression $z = ax + by + c$, where $z$ is the scoring chance, $x$ is the opponent goal keeper's chance of saving, $y$ is the current player's chance of scoring. However, we needed many past games'records with scoreline, player lineup, shooting attemps, etc. which we were not able to find or scrap. \n",
    "\n",
    "With that being said, we turned to an alternative strategy: based on a simple formula $z = 1 - (x - y)$ where z is the scoring chance, x is the goal keeper's historical chance of saving, y is the player's historical chance of scoring; we introduced a multiplier k derived from premier league's team ranking from past year. The higher a team's past rank, the larger the k is. Our scoring chance formula finally becomes $z = k (1 - x - y)$."
   ]
  },
  {
   "cell_type": "code",
   "execution_count": null,
   "id": "e6717a46",
   "metadata": {
    "editable": true,
    "slideshow": {
     "slide_type": ""
    },
    "tags": [
     "hide-cell"
    ]
   },
   "outputs": [],
   "source": [
    "teams_rankings = [\n",
    "    \"Manchester City\",\n",
    "    \"Liverpool\",\n",
    "    \"Tottenham\",\n",
    "    \"Chelsea\",\n",
    "    \"Arsenal\",\n",
    "    \"Brighton\",\n",
    "    \"Fulham\",\n",
    "    \"Manchester Utd\",\n",
    "    \"Newcastle Utd\",\n",
    "    \"Nottingham Forest\",\n",
    "    \"Bournemouth\",\n",
    "    \"Brentford\",\n",
    "    \"Everton\",\n",
    "    \"Aston Villa\",\n",
    "    \"Crystal Palace\",\n",
    "    \"Leicester City\",\n",
    "    \"Wolves\",\n",
    "    \"West Ham\",\n",
    "    \"Ipswich Town\",\n",
    "    \"Southampton\",\n",
    "]"
   ]
  },
  {
   "cell_type": "code",
   "execution_count": null,
   "id": "5a4dbe0c",
   "metadata": {
    "editable": true,
    "slideshow": {
     "slide_type": ""
    },
    "tags": []
   },
   "outputs": [],
   "source": [
    "def attempt_shoot(player, oppGK, game_state, isHome, team_name):\n",
    "    \"\"\"\n",
    "    Handles a shot attempt.\n",
    "\n",
    "    Parameters:\n",
    "        player     (dict): Player attempting the shot.\n",
    "        oppGK      (dict): Opposition Goalkeeper\n",
    "        game_state (dict): Current game state.\n",
    "        isHome    (bool): Whether the player belongs to the home team.\n",
    "\n",
    "    Returns:\n",
    "        dict: Updated game state.\n",
    "    \"\"\"\n",
    "    # scoring chance for the player\n",
    "    k = 0.16 + 0.08 * (len(teams_rankings) - teams_rankings.index(team_name)) / len(teams_rankings)\n",
    "    # Normalize and weight factors\n",
    "    gk_save_factor = oppGK[\"savePercentage\"] / 100.0\n",
    "    shot_pg = player.get(\"shotsPG\", 0.0)\n",
    "    \n",
    "    # More sophisticated scoring chance calculation\n",
    "    scoring_chance = min(1.0, k * max(0.0, \n",
    "        1 - gk_save_factor + \n",
    "        shot_pg  # Adjust multiplier based on data characteristics\n",
    "    ))\n",
    "    \n",
    "    \n",
    "    # the final solution: run a linear regression for the scoring function\n",
    "    dice = random.uniform(0.0, 1.0)\n",
    "    \n",
    "    if(dice < scoring_chance):\n",
    "        if(isHome):\n",
    "            game_state[\"home_score\"] += 1\n",
    "        else:\n",
    "            game_state[\"away_score\"] += 1\n",
    "        game_state[\"events\"].append(f\"{player['name']} scored!\")\n",
    "    else:\n",
    "        game_state[\"events\"].append(f\"{player['name']} missed the shot.\")\n",
    "    \n",
    "    game_state[\"possession_team\"] = \"away\" if isHome else \"home\"\n",
    "    game_state[\"possession_player\"] = random.choice(\n",
    "        game_state[\"away_team\"] if isHome else game_state[\"home_team\"]\n",
    "    )\n",
    "\n",
    "    return game_state"
   ]
  },
  {
   "cell_type": "markdown",
   "id": "ad267bdb",
   "metadata": {},
   "source": [
    "#### Simulate tick\n",
    "\n",
    "The simulate_tick function models a single tick of a soccer game simulation, determining the outcomes of player actions and updating the game state accordingly.   \n",
    "It identifies the team in possession, the opposition team, the opposition goalkeeper and then uses these facts to run the action function. The action function returns the action performed by the possession player for that tick then we return the gameState for that tick."
   ]
  },
  {
   "cell_type": "code",
   "execution_count": null,
   "id": "014c73fc",
   "metadata": {
    "editable": true,
    "slideshow": {
     "slide_type": ""
    },
    "tags": []
   },
   "outputs": [],
   "source": [
    "\n",
    "def simulate_tick(game_state, tick):\n",
    "    \"\"\"\n",
    "    Simulates a single tick of the game.\n",
    "\n",
    "    Parameters:\n",
    "        game_state (dict): Current game state.\n",
    "\n",
    "    Returns:\n",
    "        dict: Updated game state.\n",
    "    \"\"\"\n",
    "\n",
    "    player = game_state[\"possession_player\"]\n",
    "    team = game_state[\"home_team\"] if game_state[\"possession_team\"] == \"home\" else game_state[\"away_team\"]\n",
    "    team_name = player['team']\n",
    "    opp_team = game_state[\"home_team\"] if game_state[\"possession_team\"] == \"away\" else game_state[\"home_team\"]\n",
    "    oppGK = next((p for p in opp_team if p['isGoalkeeper']), None)\n",
    "\n",
    "    action = player_action(player, game_state[\"possession_team\"], game_state, tick)\n",
    "\n",
    "    if action == \"pass\":\n",
    "        game_state = pass_ball(player, team, game_state)\n",
    "\n",
    "    elif action == \"shoot\":\n",
    "        is_home = game_state[\"possession_team\"] == \"home\"\n",
    "        game_state = attempt_shoot(player, oppGK, game_state, is_home, team_name)\n",
    "\n",
    "    elif action == \"keep\":\n",
    "        game_state[\"events\"].append(f\"{player['name']} keeps the ball.\")\n",
    "\n",
    "    elif action == \"lose\":\n",
    "        game_state[\"possession_team\"] = \"away\" if game_state[\"possession_team\"] == \"home\" else \"home\"\n",
    "        game_state[\"possession_player\"] = random.choice(\n",
    "            game_state[\"away_team\"] if game_state[\"possession_team\"] == \"away\" else game_state[\"home_team\"]\n",
    "        )\n",
    "        game_state[\"events\"].append(f\"{player['name']} lost the ball.\")\n",
    "        \n",
    "        #print(f\"updated game state {game_state}\")\n",
    "\n",
    "    return game_state"
   ]
  },
  {
   "cell_type": "markdown",
   "id": "6be96f8c",
   "metadata": {},
   "source": [
    "#### Simulate Match with Logging\n",
    "\n",
    "- To simulate a soccer match between two teams (home_team and away_team) tick-by-tick, while also creating a data log from which we extract necessary data for our graphs etc.\n"
   ]
  },
  {
   "cell_type": "code",
   "execution_count": null,
   "id": "f9d6624a",
   "metadata": {
    "editable": true,
    "slideshow": {
     "slide_type": ""
    },
    "tags": []
   },
   "outputs": [],
   "source": [
    "def simulate_match_with_logging(home_team, away_team):\n",
    "    \"\"\"\n",
    "    Simulates a full match and returns game state with tick-by-tick logging.\n",
    "\n",
    "    Parameters:\n",
    "        home_team (list): Home team players.\n",
    "        away_team (list): Away team players.\n",
    "\n",
    "    Returns:\n",
    "        dict: Final game state with tick-by-tick events.\n",
    "    \"\"\"\n",
    "    game_state = initialize_match(home_team, away_team)\n",
    "\n",
    "    # Initialize tracking metrics\n",
    "    match_data = {\n",
    "        \"ticks\": [],\n",
    "        \"home_score\": [],\n",
    "        \"away_score\": [],\n",
    "        # \"home_passes\": [],\n",
    "        # \"away_passes\": [],\n",
    "        \"home_shots\": [],\n",
    "        \"away_shots\": [],\n",
    "    }\n",
    "\n",
    "\n",
    "    # home_passes, away_passes = 0, 0\n",
    "    home_shots, away_shots = 0, 0\n",
    "    for tick in range(1, simulation_tick+1):\n",
    "        game_state = simulate_tick(game_state, tick)\n",
    "        \n",
    "        # Track events for plotting\n",
    "        match_data[\"ticks\"].append(tick)\n",
    "        match_data[\"home_score\"].append(game_state[\"home_score\"])\n",
    "        match_data[\"away_score\"].append(game_state[\"away_score\"])\n",
    "\n",
    "        # Count passes and shots\n",
    "        for event in game_state[\"events\"]:\n",
    "            #if \"passed\" in event:\n",
    "            #    if \"home\" in game_state[\"possession_team\"]:\n",
    "            #        home_passes += 1\n",
    "            #    else:\n",
    "            #        away_passes += 1\n",
    "            if \"shot\" in event or \"scored\" in event:\n",
    "                if \"home\" in game_state[\"possession_team\"]:\n",
    "                    home_shots += 1\n",
    "                else:\n",
    "                    away_shots += 1\n",
    "\n",
    "        #match_data[\"home_passes\"].append(home_passes)\n",
    "        #match_data[\"away_passes\"].append(away_passes)\n",
    "        match_data[\"home_shots\"].append(home_shots)\n",
    "        match_data[\"away_shots\"].append(away_shots)\n",
    "\n",
    "    return match_data"
   ]
  },
  {
   "cell_type": "markdown",
   "id": "eb109fde",
   "metadata": {},
   "source": [
    "----\n",
    "### Monte-Carlo Match Simulation\n",
    "\n",
    "The monte_carlo_match_simulation function simulates a soccer match thousands of times using Monte Carlo methods to estimate the most likely outcomes and provide statistical insights.\n",
    "\n",
    "It takes in the home_team, away_team and the number of simulations (default = 10,000). Then returns the simulation results as a dictionary.\n",
    "\n",
    "This code runs simulations, extracts scores, updates the scoreline, aggregates the goals and determines the outcome for each game.\n",
    "It also calculates important statistics such as homeTeam points, awayTeam points, averageGoals, and most common scorelines.\n",
    "    \n",
    "\n"
   ]
  },
  {
   "cell_type": "code",
   "execution_count": null,
   "id": "9688edaa",
   "metadata": {
    "editable": true,
    "slideshow": {
     "slide_type": ""
    },
    "tags": [
     "hide-cell"
    ]
   },
   "outputs": [],
   "source": [
    "def monte_carlo_match_simulation(home_team, away_team, n_simulations=10000):\n",
    "    \"\"\"\n",
    "    Runs Monte Carlo simulations for the match to estimate the most likely result.\n",
    "\n",
    "    Parameters:\n",
    "        home_team (list): Home team players.\n",
    "        away_team (list): Away team players.\n",
    "        n_simulations (int): Number of simulations to run.\n",
    "\n",
    "    Returns:\n",
    "        dict: Results including most common scoreline and average stats.\n",
    "    \"\"\"\n",
    "    results = {\n",
    "        \"scorelines\": Counter(),\n",
    "        \"home_goals\": 0,\n",
    "        \"away_goals\": 0,\n",
    "        \"home_score\": 0,\n",
    "        \"away_score\": 0,\n",
    "        \"home_vic\": 0,\n",
    "        \"away_vic\": 0,\n",
    "        \"draw\": 0,\n",
    "    }\n",
    "\n",
    "    for _ in range(n_simulations):\n",
    "        \n",
    "        game_state = simulate_match_with_logging(home_team, away_team)\n",
    "        \n",
    "        # Ensure scores are integers\n",
    "        home_score = int(game_state[\"home_score\"][-1])\n",
    "        away_score = int(game_state[\"away_score\"][-1])\n",
    "        final_score = (home_score, away_score)  # Tuple is immutable and hashable\n",
    "\n",
    "        # Track the scoreline\n",
    "        results[\"scorelines\"][final_score] += 1\n",
    "\n",
    "        # Aggregate total goals\n",
    "        results[\"home_goals\"] += home_score\n",
    "        results[\"away_goals\"] += away_score\n",
    "        \n",
    "        # Aggregate game results\n",
    "        if (home_score > away_score): results[\"home_vic\"] += 1\n",
    "        elif (home_score < away_score): results[\"away_vic\"] += 1\n",
    "        elif (home_score == away_score): results[\"draw\"] += 1\n",
    "        \n",
    "    results[\"home_score\"] = 3 * results[\"home_vic\"] + results[\"draw\"]\n",
    "    results[\"away_score\"] = 3 * results[\"away_vic\"] + results[\"draw\"]\n",
    "\n",
    "    # Calculate averages\n",
    "    results[\"average_home_goals\"] = results[\"home_goals\"] / n_simulations\n",
    "    results[\"average_away_goals\"] = results[\"away_goals\"] / n_simulations\n",
    "\n",
    "    # Most common scoreline\n",
    "    results[\"most_common_scoreline\"] = results[\"scorelines\"].most_common(1)[0]\n",
    "\n",
    "    return results\n",
    "\n"
   ]
  },
  {
   "cell_type": "code",
   "execution_count": null,
   "id": "903c32d9",
   "metadata": {
    "editable": true,
    "slideshow": {
     "slide_type": ""
    },
    "tags": [
     "hide-cell"
    ]
   },
   "outputs": [],
   "source": [
    "import multiprocessing\n",
    "from collections import Counter\n",
    "\n",
    "# Ensure proper multiprocessing method for Jupyter and macOS\n",
    "if __name__ == '__main__' or __name__ == '__main__.ipynb':\n",
    "    # This guard is crucial for Jupyter Notebook multiprocessing\n",
    "    multiprocessing.set_start_method('fork')  # Recommended for macOS\n",
    "\n",
    "def run_single_simulation(args):\n",
    "    \"\"\"\n",
    "    Worker function for match simulation in Jupyter environment.\n",
    "    \n",
    "    Critical Considerations for Jupyter Multiprocessing:\n",
    "    1. Must be defined at module level\n",
    "    2. Simple, picklable arguments\n",
    "    3. Predictable, self-contained logic\n",
    "    \"\"\"\n",
    "    home_team, away_team = args\n",
    "    game_state = simulate_match_with_logging(home_team, away_team)\n",
    "    \n",
    "    home_goals = int(game_state[\"home_score\"][-1])\n",
    "    away_goals = int(game_state[\"away_score\"][-1])\n",
    "    \n",
    "    if home_goals > away_goals:\n",
    "        game_result = \"home_vic\"\n",
    "    elif home_goals < away_goals:\n",
    "        game_result = \"away_vic\"\n",
    "    else:\n",
    "        game_result = \"draw\"\n",
    "    \n",
    "    result = {\n",
    "        \"home_goals\": home_goals,\n",
    "        \"away_goals\": away_goals,\n",
    "        \"final_goals\": (home_goals, away_goals),\n",
    "        \"game_result\": game_result\n",
    "    }\n",
    "    \n",
    "    return result\n",
    "\n",
    "def monte_carlo_match_simulation_parallel(home_team, away_team, n_simulations):\n",
    "    \"\"\"\n",
    "    Parallel Monte Carlo simulation optimized for Jupyter on macOS.\n",
    "    \n",
    "    Key Jupyter-Specific Multiprocessing Strategies:\n",
    "    - Use 'fork' method for macOS compatibility\n",
    "    - Explicit process count management\n",
    "    - Robust error handling\n",
    "    \"\"\"\n",
    "    # Prepare simulation arguments\n",
    "    simulation_args = [(home_team, away_team) for _ in range(n_simulations)]\n",
    "    \n",
    "    # Determine optimal process count\n",
    "    # Reduces overhead while maximizing parallel efficiency\n",
    "    num_cores = max(1, multiprocessing.cpu_count() - 1)\n",
    "    \n",
    "    try:\n",
    "        with multiprocessing.Pool(processes=num_cores) as pool:\n",
    "            # Distribute simulations across available cores\n",
    "            simulations = pool.map(run_single_simulation, simulation_args)\n",
    "    except Exception as e:\n",
    "        print(f\"Multiprocessing error: {e}\")\n",
    "        # Fallback to sequential simulation if parallel fails\n",
    "        simulations = [run_single_simulation(args) for args in simulation_args]\n",
    "    \n",
    "    # Results aggregation remains similar to previous implementation\n",
    "    results = {\n",
    "        \"scorelines\": Counter(),\n",
    "        \"home_goals\": 0,\n",
    "        \"away_goals\": 0,\n",
    "        \"home_score\": 0,\n",
    "        \"away_score\": 0,\n",
    "        \"home_vic\": 0,\n",
    "        \"away_vic\": 0,\n",
    "        \"draw\": 0,\n",
    "    }\n",
    "    \n",
    "    for result in simulations:\n",
    "        final_goals = result[\"final_goals\"]\n",
    "        results[\"scorelines\"][final_goals] += 1\n",
    "        results[\"home_goals\"] += result[\"home_goals\"]\n",
    "        results[\"away_goals\"] += result[\"away_goals\"]\n",
    "        \n",
    "        if result[\"game_result\"] == \"home_vic\":\n",
    "            results[\"home_vic\"] += 1\n",
    "        elif result[\"game_result\"] == \"away_vic\":\n",
    "            results[\"away_vic\"] += 1\n",
    "        else:\n",
    "            results[\"draw\"] += 1\n",
    "    \n",
    "    # Performance and statistical calculations\n",
    "    results[\"home_score\"] = 3 * results[\"home_vic\"] + results[\"draw\"]\n",
    "    results[\"away_score\"] = 3 * results[\"away_vic\"] + results[\"draw\"]\n",
    "    results[\"average_home_goals\"] = results[\"home_goals\"] / n_simulations\n",
    "    results[\"average_away_goals\"] = results[\"away_goals\"] / n_simulations\n",
    "    \n",
    "    results[\"most_common_scoreline\"] = results[\"scorelines\"].most_common(1)[0] if results[\"scorelines\"] else None\n",
    "    \n",
    "    return results"
   ]
  },
  {
   "cell_type": "code",
   "execution_count": null,
   "id": "93d66b53",
   "metadata": {
    "editable": true,
    "slideshow": {
     "slide_type": ""
    },
    "tags": [
     "hide-cell"
    ]
   },
   "outputs": [],
   "source": [
    "import matplotlib.pyplot as plt\n",
    "\n",
    "def plot_scoreline_distribution(scorelines):\n",
    "    \"\"\"\n",
    "    Plots the distribution of the top x% of scorelines from Monte Carlo simulations.\n",
    "\n",
    "    Parameters:\n",
    "        scorelines (Counter): Frequency of scorelines from simulations.\n",
    "        x_percent (float): The percentage of total data to display (0-100).\n",
    "    \"\"\"\n",
    "    \n",
    "    x_percent = 80\n",
    "    \n",
    "    # Sort scorelines by frequency in descending order\n",
    "    sorted_scorelines = sorted(scorelines.items(), key=lambda item: item[1], reverse=True)\n",
    "    \n",
    "    # Calculate total frequency\n",
    "    total_frequency = sum(scorelines.values())\n",
    "    \n",
    "    # Calculate the cumulative sum and filter top x% data\n",
    "    cumulative_frequency = 0\n",
    "    filtered_scorelines = []\n",
    "    for scoreline, freq in sorted_scorelines:\n",
    "        cumulative_frequency += freq\n",
    "        filtered_scorelines.append((scoreline, freq))\n",
    "        if cumulative_frequency / total_frequency * 100 >= x_percent:\n",
    "            break\n",
    "    \n",
    "    # Unpack filtered scorelines\n",
    "    filtered_scoreline_strings = [f\"{home}-{away}\" for home, away in dict(filtered_scorelines).keys()]\n",
    "    filtered_frequencies = [freq for _, freq in filtered_scorelines]\n",
    "    \n",
    "    # Plot the filtered data\n",
    "    plt.figure(figsize=(12, 6))\n",
    "    plt.bar(filtered_scoreline_strings, filtered_frequencies, color=\"skyblue\")\n",
    "    plt.title(f\"Top {x_percent}% Scoreline Distribution (Monte Carlo Simulation)\")\n",
    "    plt.xlabel(\"Scoreline (Home-Away)\")\n",
    "    plt.ylabel(\"Frequency\")\n",
    "    plt.xticks(rotation=45)\n",
    "    plt.grid(axis=\"y\")\n",
    "    plt.show()\n"
   ]
  },
  {
   "cell_type": "markdown",
   "id": "cec63dfd",
   "metadata": {},
   "source": [
    "----\n",
    "#### Testing the accuracy of single game simulation\n",
    "Running 10000 games on different home and away team settings to test the accuray of the model, the test set includes four tests:\n",
    "1. Game between two strong teams (Manchester City vs. Chelsea)\n",
    "2. Game between one strong team and one weaker team (Manchester City vs. Ispwich Town)\n",
    "3. Game between the same two strong teams, but exchange home-away setting (Chelsea vs. Manchester City)\n",
    "4. A special case: West Ham vs. Manchester City - West Ham's performance was unrealistically strong before we introduced the k multiplier in the shoot attempt logic. This case was then introduced to check the model's bias.\n",
    "\n",
    "For each test, we compare an expected result from poisson distribution with the model's result."
   ]
  },
  {
   "cell_type": "markdown",
   "id": "3c7ed2e0",
   "metadata": {},
   "source": [
    "---\n",
    "##### Expected probability using poisson distribution\n",
    "\n",
    "The probability of a specific scoreline $(G_{Home}, G_{Away})$ is \n",
    "\n",
    "$P(G_{Home} = k, G_{Away} = m) = P(G_{Home} = k) * P(G_{Away} = m)$\n",
    "\n",
    "where $P(G = x) = \\frac{\\lambda^{x}e^{-\\lambda}}{x!}$\n",
    "\n",
    "Here the team's lambda is obtained as a sum of the goals per game from each player in the lineup.\n",
    "\n",
    "We compare the simulation result with the poisson probability, then validate our model's accuracy with KL-divergence."
   ]
  },
  {
   "cell_type": "code",
   "execution_count": null,
   "id": "9e2459d9",
   "metadata": {},
   "outputs": [],
   "source": [
    "from scipy.stats import poisson\n",
    "\n",
    "def calculate_team_lambda(team_name):\n",
    "    team_lambda = 0\n",
    "    team_lineup = predict_starting_lineup(team_name, 10000)\n",
    "    for player in team_lineup:\n",
    "        team_lambda += player.get(\"shotsPG\", 0.0)\n",
    "    return team_lambda\n",
    "\n",
    "def calculate_outcome_probabilities(home_team, away_team, max_goals=10):\n",
    "    lambda_home = calculate_team_lambda(home_team)\n",
    "    lambda_away = calculate_team_lambda(away_team)\n",
    "    home_win_prob = 0\n",
    "    away_win_prob = 0\n",
    "    draw_prob = 0\n",
    "    \n",
    "    for home_goals in range(max_goals+1):\n",
    "        for away_goals in range(max_goals + 1):\n",
    "            prob = poisson.pmf(home_goals, lambda_home) * poisson.pmf(away_goals, lambda_away)\n",
    "            if home_goals > away_goals:\n",
    "                home_win_prob += prob\n",
    "            elif home_goals < away_goals:\n",
    "                away_win_prob += prob\n",
    "            else: \n",
    "                draw_prob += prob\n",
    "                \n",
    "    return home_win_prob, draw_prob, away_win_prob"
   ]
  },
  {
   "cell_type": "code",
   "execution_count": null,
   "id": "e1555871",
   "metadata": {},
   "outputs": [],
   "source": [
    "def empirical_probabilities(simulation_results, n_simulations):\n",
    "    total_matches = n_simulations\n",
    "    home_wins = simulation_results[\"home_vic\"]\n",
    "    away_wins = simulation_results[\"away_vic\"]\n",
    "    draws = simulation_results[\"draw\"]\n",
    "    \n",
    "    return home_wins / total_matches, draws / total_matches, away_wins / total_matches"
   ]
  },
  {
   "cell_type": "code",
   "execution_count": null,
   "id": "8a9cd201",
   "metadata": {},
   "outputs": [],
   "source": [
    "import scipy.stats as stats\n",
    "from typing import Dict, Any\n",
    "def analyze_match_simulation(home_team: str, away_team: str, monte_carlo_results: Dict, n_simulations: int) -> Dict[str, Any]:\n",
    "    \"\"\"\n",
    "    Comprehensive analysis of match simulation results with statistical comparisons.\n",
    "    \n",
    "    Args:\n",
    "        home_team (str): Name of the home team\n",
    "        away_team (str): Name of the away team\n",
    "        monte_carlo_results (dict): Results from Monte Carlo simulations\n",
    "        n_simulations (int): Number of simulations performed\n",
    "    \n",
    "    Returns:\n",
    "        dict: Detailed analysis of simulation results\n",
    "    \"\"\"\n",
    "    # Calculate Poisson and Empirical Probabilities\n",
    "    home_win, draw, away_win = calculate_outcome_probabilities(home_team, away_team)\n",
    "    empirical_home_win, empirical_draw, empirical_away_win = empirical_probabilities(monte_carlo_results, n_simulations)\n",
    "    \n",
    "    # Probability Differences\n",
    "    prob_differences = {\n",
    "        'Home Win': {\n",
    "            'Poisson': home_win, \n",
    "            'Empirical': empirical_home_win, \n",
    "            'Difference': empirical_home_win - home_win\n",
    "        },\n",
    "        'Draw': {\n",
    "            'Poisson': draw, \n",
    "            'Empirical': empirical_draw, \n",
    "            'Difference': empirical_draw - draw\n",
    "        },\n",
    "        'Away Win': {\n",
    "            'Poisson': away_win, \n",
    "            'Empirical': empirical_away_win, \n",
    "            'Difference': empirical_away_win - away_win\n",
    "        }\n",
    "    }\n",
    "    \n",
    "    # Statistical Tests\n",
    "    categories = ['Home Win', 'Draw', 'Away Win']\n",
    "    poisson_probs = [home_win, draw, away_win]\n",
    "    simulation_probs = [empirical_home_win, empirical_draw, empirical_away_win]\n",
    "    \n",
    "    # Prepare frequencies for chi-square test\n",
    "    expected_frequencies = [p * n_simulations for p in poisson_probs]\n",
    "    observed_frequencies = [p * n_simulations for p in simulation_probs]\n",
    "    \n",
    "    # Adjust for floating-point differences\n",
    "    total_observed = sum(observed_frequencies)\n",
    "    total_expected = sum(expected_frequencies)\n",
    "    \n",
    "    if total_observed != total_expected:\n",
    "        scaling_factor = total_observed / total_expected\n",
    "        expected_frequencies = [freq * scaling_factor for freq in expected_frequencies]\n",
    "    \n",
    "    # Chi-Square Test\n",
    "    chi2_stat, p_value = stats.chisquare(f_obs=observed_frequencies, f_exp=expected_frequencies)\n",
    "    \n",
    "    # Kullback-Leibler Divergence\n",
    "    kl_divergence = stats.entropy(simulation_probs, poisson_probs)\n",
    "    \n",
    "    # Visualization\n",
    "    plt.figure(figsize=(10, 6))\n",
    "    x = np.arange(len(categories))\n",
    "    width = 0.35\n",
    "    \n",
    "    plt.bar(x - width/2, poisson_probs, width, label='Poisson Model', alpha=0.7)\n",
    "    plt.bar(x + width/2, simulation_probs, width, label='Simulation Results', alpha=0.7)\n",
    "    \n",
    "    plt.xlabel('Outcomes')\n",
    "    plt.ylabel('Probability')\n",
    "    plt.title(f'Probability Comparison: {home_team} vs {away_team}')\n",
    "    plt.xticks(x, categories)\n",
    "    plt.legend()\n",
    "    plt.tight_layout()\n",
    "    plt.show()\n",
    "    \n",
    "    # Comprehensive Results Dictionary\n",
    "    results = {\n",
    "        'Team Information': {\n",
    "            'Home Team': home_team,\n",
    "            'Away Team': away_team\n",
    "        },\n",
    "        'Simulation Summary': {\n",
    "            'Total Simulations': n_simulations,\n",
    "            'Home Victories': monte_carlo_results['home_vic'],\n",
    "            'Away Victories': monte_carlo_results['away_vic'],\n",
    "            'Draws': monte_carlo_results['draw']\n",
    "        },\n",
    "        'Scoreline Analysis': {\n",
    "            'Most Common Scoreline': monte_carlo_results['most_common_scoreline'],\n",
    "            'Average Home Goals': monte_carlo_results['average_home_goals'],\n",
    "            'Average Away Goals': monte_carlo_results['average_away_goals']\n",
    "        },\n",
    "        'Probability Comparison': prob_differences,\n",
    "        'Statistical Tests': {\n",
    "            'Chi-Square Statistic': chi2_stat,\n",
    "            'Chi-Square P-Value': p_value,\n",
    "            'KL Divergence': kl_divergence\n",
    "        }\n",
    "    }\n",
    "    \n",
    "    return results"
   ]
  },
  {
   "cell_type": "code",
   "execution_count": null,
   "id": "6ea2936d",
   "metadata": {},
   "outputs": [],
   "source": [
    "from scipy.stats import chisquare\n",
    "import matplotlib.pyplot as plt\n",
    "from scipy.stats import entropy\n",
    "\n",
    "def plot_poi_sim_differences_with_chi_square(home_team, away_team, monte_carlo_results, n_simulations):\n",
    "    # Calculate probabilities\n",
    "    home_win, draw, away_win = calculate_outcome_probabilities(home_team, away_team)  # Poisson probabilities\n",
    "    empirical_home_win, empirical_draw, empirical_away_win = empirical_probabilities(monte_carlo_results, n_simulations)\n",
    "\n",
    "    # Report the difference\n",
    "    home_diff = empirical_home_win - home_win\n",
    "    away_diff = empirical_away_win - away_win\n",
    "    draw_diff = empirical_draw - draw\n",
    "    \n",
    "    print(f\"The total difference is: {abs(home_diff) + abs(away_diff) + abs(draw_diff)}\")\n",
    "    print(f\"Home difference is: {home_diff}\")\n",
    "    print(f\"Draw difference is: {draw_diff}\")\n",
    "    print(f\"Away difference is: {away_diff}\")\n",
    "\n",
    "    # Probabilities\n",
    "    categories = ['Home Win', 'Draw', 'Away Win']\n",
    "    poisson_probs = [home_win, draw, away_win]\n",
    "    simulation_probs = [empirical_home_win, empirical_draw, empirical_away_win]\n",
    "\n",
    "    # Perform chi-square test\n",
    "    # Convert probabilities to frequencies for chi-square test\n",
    "    expected_frequencies = [p * n_simulations for p in poisson_probs]\n",
    "    observed_frequencies = [p * n_simulations for p in simulation_probs]\n",
    "\n",
    "    # Adjust for floating-point differences\n",
    "    total_observed = sum(observed_frequencies)\n",
    "    total_expected = sum(expected_frequencies)\n",
    "    \n",
    "    if total_observed != total_expected:\n",
    "        scaling_factor = total_observed / total_expected\n",
    "        expected_frequencies = [freq * scaling_factor for freq in expected_frequencies]\n",
    "\n",
    "\n",
    "    chi2_stat, p_value = chisquare(f_obs=observed_frequencies, f_exp=expected_frequencies)\n",
    "\n",
    "    # Plot\n",
    "    plt.bar(categories, poisson_probs, alpha=0.7, label='Poisson Model')\n",
    "    plt.bar(categories, simulation_probs, alpha=0.7, label='Simulation Results')\n",
    "    plt.ylabel('Probability')\n",
    "    plt.title('Comparison of Poisson and Simulation Probabilities')\n",
    "    plt.legend()\n",
    "    plt.show()\n",
    "\n",
    "    # Print chi-square test results\n",
    "    print(f\"Chi-square Statistic: {chi2_stat}\")\n",
    "    print(f\"P-value: {p_value}\")\n",
    "\n",
    "    if p_value < 0.05:  # Significance level (alpha = 0.05)\n",
    "        print(\"The observed and expected frequencies differ significantly.\\n\")\n",
    "    else:\n",
    "        print(\"No significant difference between observed and expected frequencies.\\n\")\n",
    "\n",
    "    # Calculate KL divergence\n",
    "    kl_divergence = entropy(simulation_probs, poisson_probs)\n",
    "    print(f\"KL Divergence: {kl_divergence:.5f}\")\n",
    "\n",
    "    # Interpret KL divergence\n",
    "    if kl_divergence < 0.01:\n",
    "        print(\"The distributions are very similar (low divergence).\")\n",
    "    elif kl_divergence < 0.1:\n",
    "        print(\"The distributions have some differences, but are still reasonably close.\")\n",
    "    else:\n",
    "        print(\"The distributions are significantly different.\")\n"
   ]
  },
  {
   "cell_type": "code",
   "execution_count": null,
   "id": "9c5424e6",
   "metadata": {},
   "outputs": [],
   "source": [
    "import numpy as np\n",
    "import pandas as pd\n",
    "\n",
    "def create_concise_summary(results: Dict[str, Any]) -> Dict[str, pd.DataFrame]:\n",
    "    \"\"\"\n",
    "    Create a concise summary of match simulation results\n",
    "    \n",
    "    Args:\n",
    "        results (dict): Comprehensive match simulation results\n",
    "    \n",
    "    Returns:\n",
    "        dict: Dictionary of pandas DataFrames with key insights\n",
    "    \"\"\"\n",
    "    # Total Simulations\n",
    "    total_sims = results['Simulation Summary']['Total Simulations']\n",
    "    \n",
    "    # Victories and Outcome Probabilities\n",
    "    outcomes_data = {\n",
    "        'Outcome': ['Home Victory', 'Away Victory', 'Draw'],\n",
    "        'Simulated Count': [\n",
    "            results['Simulation Summary']['Home Victories'],\n",
    "            results['Simulation Summary']['Away Victories'],\n",
    "            results['Simulation Summary']['Draws']\n",
    "        ],\n",
    "        'Simulated %': [\n",
    "            f\"{results['Simulation Summary']['Home Victories']/total_sims*100:.1f}%\",\n",
    "            f\"{results['Simulation Summary']['Away Victories']/total_sims*100:.1f}%\",\n",
    "            f\"{results['Simulation Summary']['Draws']/total_sims*100:.1f}%\"\n",
    "        ]\n",
    "    }\n",
    "    outcomes_df = pd.DataFrame(outcomes_data)\n",
    "    \n",
    "        # Scoreline Analysis\n",
    "    scoreline_data = {\n",
    "        'Metric': ['Most Common Scoreline', 'Avg Home Goals', 'Avg Away Goals'],\n",
    "        'Value': [\n",
    "            str(results['Scoreline Analysis']['Most Common Scoreline'][0]),\n",
    "            f\"{results['Scoreline Analysis']['Average Home Goals']:.2f}\",\n",
    "            f\"{results['Scoreline Analysis']['Average Away Goals']:.2f}\"\n",
    "        ]\n",
    "    }\n",
    "    scoreline_df = pd.DataFrame(scoreline_data)\n",
    "      \n",
    "    return {\n",
    "        'Outcome Probabilities': outcomes_df,\n",
    "        'Scoreline Analysis': scoreline_df,\n",
    "        }\n"
   ]
  },
  {
   "cell_type": "code",
   "execution_count": null,
   "id": "241f6058",
   "metadata": {},
   "outputs": [],
   "source": [
    "def pretty_print_match_analysis(results: Dict[str, Any]):\n",
    "    \"\"\"\n",
    "    Print a concise match simulation analysis\n",
    "    \n",
    "    Args:\n",
    "        results (dict): Comprehensive match simulation results\n",
    "    \n",
    "    Returns:\n",
    "        dict: Dictionary of pandas DataFrames\n",
    "    \"\"\"\n",
    "    print(f\"\\n🏟️ Match: {results['Team Information']['Home Team']} vs {results['Team Information']['Away Team']}\")\n",
    "    \n",
    "    # Create concise DataFrames\n",
    "    dfs = create_concise_summary(results)\n",
    "    \n",
    "    # Print each DataFrame\n",
    "    df1 = dfs['Outcome Probabilities']\n",
    "    df2 = dfs['Scoreline Analysis']\n",
    "\n",
    "    side_by_side = pd.concat([df1, df2], axis=1)\n",
    "    print(side_by_side)\n",
    "    \n",
    "    # Concise Interpretation\n",
    "    p_value = results['Statistical Tests']['Chi-Square P-Value']\n",
    "    kl_divergence = results['Statistical Tests']['KL Divergence']\n",
    "    \n",
    "    print(\"\\n  Interpretation:\")\n",
    "    if p_value >= 0.05:\n",
    "        print(\"  Chi-square shows Poisson and Simulation probabilities are consistent\")\n",
    "    else:\n",
    "        print(\"  Chi-sqaure shows potential differences in probability distributions\")\n",
    "        \n",
    "    if kl_divergence < 0.01:\n",
    "        print(\"  KL-Divergence shows the distributions are very similar (low divergence).\")\n",
    "    elif kl_divergence < 0.1:\n",
    "        print(\"  KL-Divergence shows the distributions have some differences, but are still reasonably close.\")\n",
    "    else:\n",
    "        print(\"  The distributions are significantly different.\")\n",
    "\n",
    "    \n",
    "    return dfs\n"
   ]
  },
  {
   "cell_type": "code",
   "execution_count": null,
   "id": "321e8acc",
   "metadata": {
    "jupyter": {
     "source_hidden": true
    }
   },
   "outputs": [],
   "source": [
    "def test_single_game_simulation(home_team, away_team, n_simulations):\n",
    "    \"\"\"\n",
    "    Comprehensive test of match simulation between two teams\n",
    "    \n",
    "    Args:\n",
    "        home_team (str): Name of the home team\n",
    "        away_team (str): Name of the away team\n",
    "        n_simulations (int, optional): Number of Monte Carlo simulations\n",
    "    \n",
    "    Returns:\n",
    "        dict: Dictionary of concise pandas DataFrames\n",
    "    \"\"\"\n",
    "\n",
    "    # Perform parallel Monte Carlo simulation\n",
    "    monte_carlo_results = monte_carlo_match_simulation_parallel(home_team, away_team, n_simulations)\n",
    "    \n",
    "    # Analyze and visualize simulation results\n",
    "    analysis = analyze_match_simulation(home_team, away_team, monte_carlo_results, n_simulations)\n",
    "    \n",
    "    # Concise pretty printing\n",
    "    dfs = pretty_print_match_analysis(analysis)\n",
    "    \n"
   ]
  },
  {
   "cell_type": "markdown",
   "id": "40e097d4",
   "metadata": {},
   "source": [
    "----\n",
    "##### Case 1: Manchester City vs Chelsea\n",
    "Expectation: Man City should be moderately better than Chelsea"
   ]
  },
  {
   "cell_type": "code",
   "execution_count": null,
   "id": "395efd30",
   "metadata": {
    "editable": true,
    "slideshow": {
     "slide_type": ""
    },
    "tags": [
     "hide-cell"
    ]
   },
   "outputs": [],
   "source": [
    "test_single_game_simulation(\"Manchester City\", \"Chelsea\", 10000)    "
   ]
  },
  {
   "cell_type": "markdown",
   "id": "3d55154f",
   "metadata": {},
   "source": [
    "----\n",
    "##### Case 2: Manchester City vs Ipswich Town\n",
    "Comparing to case 1, examing a stronger team to a weaker team.\n",
    "Expectation: Man City should be considerably better than Ipswich Town"
   ]
  },
  {
   "cell_type": "code",
   "execution_count": null,
   "id": "e572d8ae",
   "metadata": {
    "editable": true,
    "slideshow": {
     "slide_type": ""
    },
    "tags": [
     "hide-cell"
    ]
   },
   "outputs": [],
   "source": [
    "test_single_game_simulation(\"Manchester City\", \"Ipswich Town\", 10000)"
   ]
  },
  {
   "cell_type": "markdown",
   "id": "f59e76f7",
   "metadata": {},
   "source": [
    "----\n",
    "##### Case 3: Chelsea vs Manchester City\n",
    "Comparing to case 1, examing the effect of being home and away team\n",
    "Expectation: Man City should still be better than Chelsea, but the gap should shrink as now Chelsea is the home team"
   ]
  },
  {
   "cell_type": "code",
   "execution_count": null,
   "id": "20e4cc6f",
   "metadata": {
    "editable": true,
    "slideshow": {
     "slide_type": ""
    },
    "tags": [
     "hide-cell"
    ]
   },
   "outputs": [],
   "source": [
    "test_single_game_simulation(\"Chelsea\", \"Manchester City\", 10000)"
   ]
  },
  {
   "cell_type": "markdown",
   "id": "88ca3b3c",
   "metadata": {},
   "source": [
    "---\n",
    "##### Case 4: West Ham and Manchester City\n",
    "A special case: in the initial tests West Ham has a strangely high chance of winning, beating all teams including Man City.\n",
    "This case is set to observe the current model's bias"
   ]
  },
  {
   "cell_type": "code",
   "execution_count": null,
   "id": "0708deba",
   "metadata": {
    "editable": true,
    "slideshow": {
     "slide_type": ""
    },
    "tags": [
     "hide-cell"
    ]
   },
   "outputs": [],
   "source": [
    "test_single_game_simulation(\"West Ham\", \"Manchester City\", 10000)"
   ]
  },
  {
   "cell_type": "markdown",
   "id": "f045df5d",
   "metadata": {},
   "source": [
    "----\n",
    "##### Conclusion on the Model's Behavior\n",
    "\n",
    "The performance of the model, as observed in the diagrams, demonstrates the following key points:\n",
    "\n",
    "1. __General Performance__: The model generally performs well, producing simulated match scorelines that closely align with real-world outcomes. The distribution of home wins, away wins, and draws reflects realistic patterns observed in actual matches.\n",
    "\n",
    "2. __Behavior Against Different Team Strengths__: The model performs more accurately when the competing teams have players of comparable skill levels. However, in matches between a stronger and a weaker team, the model tends to exaggerate the stronger team's advantage, potentially overestimating the disparity in outcomes.\n",
    "\n",
    "##### Opportunities for Improvement\n",
    "\n",
    "__Linear Regression__\n",
    "\n",
    "Currently, we rely on Poisson simulation data to guide adjustments in parameter values, particularly in the logic governing shooting attempts. For example, when the simulated draw probability is significantly lower than the Poisson-predicted draw probability, we reduce the base shooting probability to increase the likelihood of draws.\n",
    "\n",
    "However, the Poisson simulation data has its limitations, particularly in how team lambda is calculated. Currently, we simply sum the individual lambda values of each player in the lineup, which may not accurately reflect the true dynamics of a team’s performance.\n",
    "\n",
    "Introducing linear regression could significantly enhance the model’s accuracy and adaptability. \n",
    "\n",
    "By refining critical components such as shooting attempts, passing probabilities, and team lambda aggregation, linear regression can provide more precise estimates and better account for the complex interplay of factors influencing match outcomes. This integration would allow for a more nuanced and data-driven approach to optimizing parameter values.\n",
    "\n",
    "*** Additionally, by introducing chi-squared test, we learned that it could be too sensitive against a very large sample size. Instead KL divergence measures how one probability distribution diverges from another. It provides a more nuanced metric for comparing the distributions than the chi-square test."
   ]
  },
  {
   "cell_type": "markdown",
   "id": "2ba018f0",
   "metadata": {},
   "source": [
    "----\n",
    "### Final standing prediction"
   ]
  },
  {
   "cell_type": "markdown",
   "id": "be7a6a61",
   "metadata": {},
   "source": [
    "After validating the model's accuracy by above test cases. We've come to the final standing simulation where we simulate a full football league season, generating a league table based on match results calculated through probabilistic modeling.\n",
    "\n",
    "The function runs 10000 simulations for each match between two teams to calculate key statistics, including average goals scored by both home and away teams and probabilities for home wins, away wins, and draws. \n",
    "\n",
    "These probabilities are normalized and used to randomly determine the outcome of each match, reflecting the inherent variability of real-world sports competitions. The match results update team statistics such as points, goals scored and conceded, matches played, and win/draw/loss counts.\n",
    "\n",
    "At the end of the season, the league table is constructed by ranking teams based on total points, with additional metrics like goal differences naturally influencing rankings.\n",
    "\n",
    "This method leverages the power of Monte Carlo simulations to model uncertainty in sports effectively. Future improvements could include integrating external factors such as injuries, weather, or home-field advantages, as well as dynamically adjusting team parameters using Bayesian methods."
   ]
  },
  {
   "cell_type": "code",
   "execution_count": null,
   "id": "649ea6ba",
   "metadata": {
    "editable": true,
    "slideshow": {
     "slide_type": ""
    },
    "tags": []
   },
   "outputs": [],
   "source": [
    "def test_one_season():\n",
    "    \"\"\"\n",
    "    Generate the simulation for one season, return the score board\n",
    "    \n",
    "    Parameters: no parameter\n",
    "    \n",
    "    Returns: a dictionary with team name as key, their score and goals as value\n",
    "    \"\"\"\n",
    "    \n",
    "    # Initialize season standings\n",
    "    league_table = {team: {\n",
    "        \"points\": 0,\n",
    "        \"goals_scored\": 0,\n",
    "        \"goals_conceded\": 0,\n",
    "        \"matches_played\": 0,\n",
    "        \"wins\": 0,\n",
    "        \"draws\": 0,\n",
    "        \"losses\": 0\n",
    "    } for team in teams}\n",
    "    \n",
    "    num_simulations = 1000\n",
    "    \n",
    "    # Simulate matches for the entire season\n",
    "    for home_team in teams:\n",
    "        for away_team in teams:\n",
    "            # Don't play against itself\n",
    "            if home_team != away_team:\n",
    "                # Simulate the match\n",
    "                match_results = monte_carlo_match_simulation_parallel(home_team, away_team, num_simulations)\n",
    "                \n",
    "                # Update team statistics\n",
    "                home_stats = league_table[home_team]\n",
    "                away_stats = league_table[away_team]\n",
    "                \n",
    "                # Update matches played\n",
    "                home_stats[\"matches_played\"] += 1\n",
    "                away_stats[\"matches_played\"] += 1\n",
    "                \n",
    "                # Update goals\n",
    "                home_stats[\"goals_scored\"] += match_results[\"average_home_goals\"]\n",
    "                home_stats[\"goals_conceded\"] += match_results[\"average_away_goals\"]\n",
    "                away_stats[\"goals_scored\"] += match_results[\"average_away_goals\"]\n",
    "                away_stats[\"goals_conceded\"] += match_results[\"average_home_goals\"]\n",
    "                \n",
    "                # Update points and match results\n",
    "                home_vic = match_results[\"home_vic\"]\n",
    "                away_vic = match_results[\"away_vic\"]\n",
    "                draw = num_simulations - home_vic - away_vic\n",
    "\n",
    "                # normalised values\n",
    "                nld_hv = home_vic / num_simulations\n",
    "                nld_av = away_vic / num_simulations\n",
    "                nld_draw = draw / num_simulations\n",
    "                \n",
    "                game_result = random.choices(\n",
    "                    population=[\"home_vic\", \"away_vic\", \"draw\"],\n",
    "                    weights=[nld_hv, nld_av, nld_draw],\n",
    "                    k=1\n",
    "                )[0]\n",
    "                \n",
    "                if game_result == \"home_vic\":\n",
    "                    home_stats[\"points\"] += 3\n",
    "                    home_stats[\"wins\"] += 1\n",
    "                    away_stats[\"losses\"] += 1 \n",
    "                elif game_result == \"away_vic\":\n",
    "                    away_stats[\"points\"] += 3\n",
    "                    away_stats[\"wins\"] += 1\n",
    "                    home_stats[\"losses\"] += 1\n",
    "                else:\n",
    "                    home_stats[\"points\"] += 1\n",
    "                    away_stats[\"points\"] += 1\n",
    "                    home_stats[\"draws\"] += 1\n",
    "                    away_stats[\"draws\"] += 1 \n",
    "                '''\n",
    "                if draw > home_vic and draw > away_vic:\n",
    "                    home_stats[\"points\"] += 1\n",
    "                    away_stats[\"points\"] += 1\n",
    "                    home_stats[\"draws\"] += 1\n",
    "                    away_stats[\"draws\"] += 1 \n",
    "                elif home_vic > away_vic: \n",
    "                    home_stats[\"points\"] += 3\n",
    "                    home_stats[\"wins\"] += 1\n",
    "                    away_stats[\"losses\"] += 1\n",
    "                else: # home_vic < away_vic\n",
    "                    away_stats[\"points\"] += 3\n",
    "                    away_stats[\"wins\"] += 1\n",
    "                    home_stats[\"losses\"] += 1\n",
    "                '''\n",
    "    # Sort teams by points (and potentially goal difference in future iterations)\n",
    "    sorted_teams = sorted(\n",
    "        league_table.items(), \n",
    "        key=lambda x: x[1][\"points\"], \n",
    "        reverse=True\n",
    "    )\n",
    "    \n",
    "    df = pd.DataFrame.from_dict(league_table, orient='index')\n",
    "\n",
    "    # Reset index and rename\n",
    "    df.reset_index(inplace=True)\n",
    "    df.rename(columns={'index': 'team'}, inplace=True)\n",
    "\n",
    "    # Convert data types if necessary\n",
    "    df['goals_scored'] = df['goals_scored'].astype(int)\n",
    "    df['goals_conceded'] = df['goals_conceded'].astype(int)\n",
    "\n",
    "    # Reorder columns\n",
    "    df = df[['team', 'matches_played', 'wins', 'draws', 'losses', 'goals_scored', 'goals_conceded', 'points']]\n",
    "\n",
    "    # Sort by points\n",
    "    df.sort_values(by='points', ascending=False, inplace=True)\n",
    "    df.reset_index(drop=True, inplace=True)\n",
    "    \n",
    "    return df"
   ]
  },
  {
   "cell_type": "code",
   "execution_count": null,
   "id": "93f381e3",
   "metadata": {
    "editable": true,
    "slideshow": {
     "slide_type": ""
    },
    "tags": [
     "hide-cell"
    ]
   },
   "outputs": [],
   "source": [
    "def visualize_league_season(league_table):\n",
    "    \"\"\"\n",
    "    Create comprehensive visualizations of the league season results.\n",
    "    \n",
    "    Parameters:\n",
    "    league_table (dict): Dictionary containing team statistics from the season simulation\n",
    "    \n",
    "    Creates multiple plots to represent league performance:\n",
    "    1. Points Distribution Bar Chart\n",
    "    2. Goals Scored vs Goals Conceded Scatter Plot\n",
    "    3. Team Performance Radar Chart for Top Teams\n",
    "    \"\"\"\n",
    "    \n",
    "    # Extract data for plotting\n",
    "    teams = league_table['team']\n",
    "    points = league_table['points']\n",
    "    goals_scored = league_table['goals_scored']\n",
    "    goals_conceded = league_table['goals_conceded']\n",
    "    wins = league_table['wins']\n",
    "    \n",
    "    # Create a figure with subplots\n",
    "    plt.figure(figsize=(15, 10))\n",
    "    plt.suptitle('League Season Performance Analysis', fontsize=16)\n",
    "    \n",
    "    # 1. Points Distribution Bar Chart\n",
    "    plt.subplot(2, 2, 1)\n",
    "    plt.bar(teams, points, color='skyblue')\n",
    "    plt.title('Points Distribution')\n",
    "    plt.xlabel('Teams')\n",
    "    plt.ylabel('Total Points')\n",
    "    plt.xticks(rotation=45, ha='right')\n",
    "    \n",
    "    # 2. Goals Scored vs Goals Conceded Scatter Plot\n",
    "    plt.subplot(2, 2, 2)\n",
    "    scatter = plt.scatter(goals_scored, goals_conceded, c=points, cmap='viridis', s=100, edgecolors='k')\n",
    "    plt.colorbar(scatter, label='Points')\n",
    "    plt.title('Goals Scored vs Goals Conceded')\n",
    "    plt.xlabel('Goals Scored')\n",
    "    plt.ylabel('Goals Conceded')\n",
    "    \n",
    "    # Annotate each point with team names\n",
    "    for i, team in enumerate(teams):\n",
    "        plt.annotate(team, (goals_scored[i], goals_conceded[i]), \n",
    "                     xytext=(5, 5), textcoords='offset points', fontsize=8)\n",
    "    \n",
    "    # 3. Team Performance Radar Chart for Top Teams\n",
    "    # Select top 5 teams based on points\n",
    "    top_teams = league_table['team'][:5].tolist()\n",
    "    performance_metrics = league_table[['points', 'goals_scored', 'goals_conceded', 'wins']][:5]\n",
    "    \n",
    "    # Normalize the data for radar chart\n",
    "    metrics = ['points', 'goals_scored', 'goals_conceded', 'wins']\n",
    "    performance_metrics_normalized = performance_metrics.copy()\n",
    "    for metric in metrics:\n",
    "        min_value = performance_metrics[metric].min()\n",
    "        max_value = performance_metrics[metric].max()\n",
    "        performance_metrics_normalized[metric] = (performance_metrics[metric] - min_value) / (max_value - min_value)\n",
    "    \n",
    "    # Number of variables we're plotting.\n",
    "    categories = ['Points', 'Goals Scored', 'Goals Conceded', 'Wins']\n",
    "    N = len(categories)\n",
    "    \n",
    "    # What will be the angle of each axis in the plot? (we divide the plot / number of variables)\n",
    "    angles = [n / float(N) * 2 * np.pi for n in range(N)]\n",
    "    angles += angles[:1]  # Complete the loop\n",
    "    \n",
    "    # Initialize the spider plot\n",
    "    ax = plt.subplot(2, 2, (3, 4), polar=True)\n",
    "    plt.title('Top 5 Teams Performance Radar Chart', y=1.08)\n",
    "    \n",
    "    # Draw one axe per variable and add labels\n",
    "    plt.xticks(angles[:-1], categories)\n",
    "    \n",
    "    # Draw ylabels\n",
    "    ax.set_rlabel_position(30)\n",
    "    plt.yticks([0.0, 0.5, 1.0], [\"0\", \"0.5\", \"1.0\"], color=\"grey\", size=7)\n",
    "    plt.ylim(0, 1)\n",
    "    \n",
    "    # Plot each individual team\n",
    "    for i, team in enumerate(top_teams):\n",
    "        values = performance_metrics_normalized.loc[performance_metrics_normalized.index[i]].tolist()\n",
    "        values += values[:1]  # Complete the loop\n",
    "        ax.plot(angles, values, linewidth=2, linestyle='solid', label=team)\n",
    "        ax.fill(angles, values, alpha=0.1)\n",
    "    \n",
    "    # Add legend\n",
    "    plt.legend(loc='upper right', bbox_to_anchor=(1.3, 1.1))\n",
    "    \n",
    "    # Adjust layout and display\n",
    "    plt.tight_layout(rect=[0, 0.03, 1, 0.95])\n",
    "    plt.show()\n"
   ]
  },
  {
   "cell_type": "code",
   "execution_count": null,
   "id": "b5ff17b3",
   "metadata": {},
   "outputs": [],
   "source": [
    "league_results = test_one_season()"
   ]
  },
  {
   "cell_type": "code",
   "execution_count": null,
   "id": "f3b6eec9-ea8b-4ffc-8386-3ee516f4d46f",
   "metadata": {},
   "outputs": [],
   "source": [
    "display_columns = league_results.columns.str.replace('_', ' ').str.title()\n",
    "league_results.rename(dict(zip(league_results.columns, display_columns)), axis='columns')"
   ]
  },
  {
   "cell_type": "code",
   "execution_count": null,
   "id": "ce81bf98",
   "metadata": {
    "editable": true,
    "slideshow": {
     "slide_type": ""
    },
    "tags": [
     "hide-cell"
    ]
   },
   "outputs": [],
   "source": [
    "visualize_league_season(league_results)"
   ]
  },
  {
   "cell_type": "markdown",
   "id": "d09149e4",
   "metadata": {},
   "source": [
    "##### Explanation of Data Selection and Methodology: (DATASCRAPER.py)\n",
    "This script is designed to scrape, process, and store soccer player data from FBRef to provide detailed statistics for analysis and simulation. Below is a breakdown of why specific data points, methods, and structures were chosen.\n",
    "\n",
    "What data did we scrape?\n",
    "- For Goalkeepers: Save Percentage\n",
    "- Outfield Players: Tackles Per Game, Interceptions Per Game, Shots Per Game, Passes Per Game, Progressive Passes, Progressive Carries Per Game.\n",
    "- Metrics are normalized on a per-game basis using the gamesPlayed and startsForTeam.\n"
   ]
  }
 ],
 "metadata": {
  "kernelspec": {
   "display_name": "Python 3 (ipykernel)",
   "language": "python",
   "name": "python3"
  },
  "language_info": {
   "codemirror_mode": {
    "name": "ipython",
    "version": 3
   },
   "file_extension": ".py",
   "mimetype": "text/x-python",
   "name": "python",
   "nbconvert_exporter": "python",
   "pygments_lexer": "ipython3",
   "version": "3.12.3"
  }
 },
 "nbformat": 4,
 "nbformat_minor": 5
}
